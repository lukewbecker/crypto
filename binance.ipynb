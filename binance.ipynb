{
 "cells": [
  {
   "cell_type": "code",
   "execution_count": 1,
   "id": "3b3ae829-0c9d-4a6a-b15e-94e38458f7fd",
   "metadata": {},
   "outputs": [],
   "source": [
    "import urllib.parse\n",
    "import hashlib\n",
    "import hmac\n",
    "import base64\n",
    "import requests\n",
    "import calendar\n",
    "import time"
   ]
  },
  {
   "cell_type": "code",
   "execution_count": 2,
   "id": "b659dbdb-8629-4b38-83f3-5af575bc0159",
   "metadata": {},
   "outputs": [
    {
     "data": {
      "text/plain": [
       "'{\"code\":-2015,\"msg\":\"Invalid API-key, IP, or permissions for action.\"}'"
      ]
     },
     "execution_count": 2,
     "metadata": {},
     "output_type": "execute_result"
    }
   ],
   "source": [
    "api_url = \"https://api.binance.us\"\n",
    "\n",
    "# get binanceus signature\n",
    "def get_binanceus_signature(data, secret):\n",
    "    postdata = urllib.parse.urlencode(data)\n",
    "    message = postdata.encode()\n",
    "    byte_key = bytes(secret, 'UTF-8')\n",
    "    mac = hmac.new(byte_key, message, hashlib.sha256).hexdigest()\n",
    "    return mac\n",
    "\n",
    "# Attaches auth headers and returns results of a POST request\n",
    "def binanceus_request(uri_path, data, api_key, api_sec):\n",
    "    headers = {}\n",
    "    headers['X-MBX-APIKEY'] = api_key\n",
    "    signature = get_binanceus_signature(data, api_sec) \n",
    "    payload={\n",
    "        **data,\n",
    "        \"signature\": signature,\n",
    "        }           \n",
    "    req = requests.post((api_url + uri_path), headers=headers, data=payload)\n",
    "    return req.text\n",
    "\n",
    "api_key = \"vmPUZE6mv9SD5VNHk4HlWFsOr6aKE2zvsw0MuIgwCIPy6utIco14y7Ju91duEh8A\"\n",
    "secret_key = \"NhqPtmdSJYdKjVHjA7PZj4Mge3R5YNiP1e3UZjInClVN65XAbvqqM6A7H5fATj0j\"\n",
    "\n",
    "uri_path = \"/api/v3/order\"\n",
    "data = {\n",
    "    \"symbol\": \"BTCUSDT\",\n",
    "    \"side\": \"BUY\",\n",
    "    \"type\": \"LIMIT\",\n",
    "    \"timeInForce\": \"GTC\",\n",
    "    \"quantity\": 1,\n",
    "    \"price\": 0.1,\n",
    "    \"timestamp\": int(round(time.time() * 1000))\n",
    "}\n",
    "\n",
    "binanceus_request(uri_path, data, api_key, secret_key)"
   ]
  },
  {
   "cell_type": "code",
   "execution_count": null,
   "id": "69f3ccb4-ba22-4bce-b4a0-494d54e4d872",
   "metadata": {},
   "outputs": [],
   "source": []
  }
 ],
 "metadata": {
  "kernelspec": {
   "display_name": "Python 3 (ipykernel)",
   "language": "python",
   "name": "python3"
  },
  "language_info": {
   "codemirror_mode": {
    "name": "ipython",
    "version": 3
   },
   "file_extension": ".py",
   "mimetype": "text/x-python",
   "name": "python",
   "nbconvert_exporter": "python",
   "pygments_lexer": "ipython3",
   "version": "3.9.7"
  }
 },
 "nbformat": 4,
 "nbformat_minor": 5
}
