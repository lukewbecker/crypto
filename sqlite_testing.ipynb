{
 "cells": [
  {
   "cell_type": "code",
   "execution_count": 5,
   "id": "9c952f63-6116-4f03-aa31-777fdb4bedbb",
   "metadata": {},
   "outputs": [],
   "source": [
    "import sqlite3 as sql\n",
    "import pandas as pd\n",
    "import matplotlib.pyplot as plt\n",
    "import requests"
   ]
  },
  {
   "cell_type": "code",
   "execution_count": null,
   "id": "736c5ddc-b684-4011-a5ce-946356ab450c",
   "metadata": {},
   "outputs": [],
   "source": [
    "weather = pd.read_csv('https://github.com/alanjones2/dataviz/raw/master/londonweather.csv')"
   ]
  },
  {
   "cell_type": "code",
   "execution_count": null,
   "id": "38c22244-4412-461b-a8fc-4f070916d3b2",
   "metadata": {},
   "outputs": [],
   "source": [
    "weather"
   ]
  },
  {
   "cell_type": "code",
   "execution_count": null,
   "id": "df01bfcc-8a5f-4c47-a2a3-4ce4c1587f10",
   "metadata": {},
   "outputs": [],
   "source": [
    "conn = sql.connect('weather.db')\n",
    "weather.to_sql('weather', conn)"
   ]
  },
  {
   "cell_type": "code",
   "execution_count": null,
   "id": "76a29113-611d-4983-976e-56d27519b0ef",
   "metadata": {},
   "outputs": [],
   "source": [
    "conn = sql.connect('weather.db')\n",
    "weather = pd.read_sql('SELECT * FROM weather', conn)"
   ]
  },
  {
   "cell_type": "markdown",
   "id": "a1e31977-ddd9-4cd6-96e4-07e1106863de",
   "metadata": {},
   "source": [
    "## Using Crontab"
   ]
  },
  {
   "cell_type": "markdown",
   "id": "78681128-d998-41f2-b824-24ec021f2fb3",
   "metadata": {},
   "source": [
    "##### Use this tool to help build my commands: https://crontab.guru/\n",
    "\n",
    "- Example Crontab script: 30 7 * * *"
   ]
  },
  {
   "cell_type": "code",
   "execution_count": 1,
   "id": "fadfda5e-4091-43a0-93e8-84e7197fcd30",
   "metadata": {},
   "outputs": [],
   "source": [
    "import kucoin_balance"
   ]
  },
  {
   "cell_type": "code",
   "execution_count": 8,
   "id": "1a2ba7c4-ed80-4707-b01e-6e1a4e11c9c3",
   "metadata": {},
   "outputs": [],
   "source": [
    "df = kucoin_balance.kukoin_run()"
   ]
  },
  {
   "cell_type": "code",
   "execution_count": 9,
   "id": "ca4d7780-c360-4d65-bea6-5d1ddad7cf07",
   "metadata": {},
   "outputs": [
    {
     "data": {
      "text/html": [
       "<div>\n",
       "<style scoped>\n",
       "    .dataframe tbody tr th:only-of-type {\n",
       "        vertical-align: middle;\n",
       "    }\n",
       "\n",
       "    .dataframe tbody tr th {\n",
       "        vertical-align: top;\n",
       "    }\n",
       "\n",
       "    .dataframe thead th {\n",
       "        text-align: right;\n",
       "    }\n",
       "</style>\n",
       "<table border=\"1\" class=\"dataframe\">\n",
       "  <thead>\n",
       "    <tr style=\"text-align: right;\">\n",
       "      <th></th>\n",
       "      <th>currency</th>\n",
       "      <th>act_name</th>\n",
       "      <th>balance</th>\n",
       "      <th>available</th>\n",
       "      <th>holds</th>\n",
       "      <th>price</th>\n",
       "      <th>dollar_value</th>\n",
       "    </tr>\n",
       "    <tr>\n",
       "      <th>date</th>\n",
       "      <th></th>\n",
       "      <th></th>\n",
       "      <th></th>\n",
       "      <th></th>\n",
       "      <th></th>\n",
       "      <th></th>\n",
       "      <th></th>\n",
       "    </tr>\n",
       "  </thead>\n",
       "  <tbody>\n",
       "    <tr>\n",
       "      <th>2021-08-23 02:30:34</th>\n",
       "      <td>BTC</td>\n",
       "      <td>trade</td>\n",
       "      <td>0.042525</td>\n",
       "      <td>0.042525</td>\n",
       "      <td>0.000000</td>\n",
       "      <td>49821.3000</td>\n",
       "      <td>2118.65</td>\n",
       "    </tr>\n",
       "    <tr>\n",
       "      <th>2021-08-23 02:30:34</th>\n",
       "      <td>USDC</td>\n",
       "      <td>trade</td>\n",
       "      <td>1223.297009</td>\n",
       "      <td>1223.297009</td>\n",
       "      <td>0.000000</td>\n",
       "      <td>NaN</td>\n",
       "      <td>1223.30</td>\n",
       "    </tr>\n",
       "    <tr>\n",
       "      <th>2021-08-23 02:30:34</th>\n",
       "      <td>USDT</td>\n",
       "      <td>trade</td>\n",
       "      <td>1055.248023</td>\n",
       "      <td>630.294119</td>\n",
       "      <td>424.953905</td>\n",
       "      <td>NaN</td>\n",
       "      <td>1055.25</td>\n",
       "    </tr>\n",
       "    <tr>\n",
       "      <th>2021-08-23 02:30:34</th>\n",
       "      <td>BTC3S</td>\n",
       "      <td>trade</td>\n",
       "      <td>308.923700</td>\n",
       "      <td>99.587300</td>\n",
       "      <td>209.336400</td>\n",
       "      <td>1.9055</td>\n",
       "      <td>588.65</td>\n",
       "    </tr>\n",
       "    <tr>\n",
       "      <th>2021-08-23 02:30:34</th>\n",
       "      <td>BTC3L</td>\n",
       "      <td>trade</td>\n",
       "      <td>74.433300</td>\n",
       "      <td>21.594900</td>\n",
       "      <td>52.838400</td>\n",
       "      <td>1.4003</td>\n",
       "      <td>104.23</td>\n",
       "    </tr>\n",
       "    <tr>\n",
       "      <th>2021-08-23 02:30:34</th>\n",
       "      <td>ATOM</td>\n",
       "      <td>trade</td>\n",
       "      <td>0.236600</td>\n",
       "      <td>0.236600</td>\n",
       "      <td>0.000000</td>\n",
       "      <td>22.7730</td>\n",
       "      <td>5.39</td>\n",
       "    </tr>\n",
       "    <tr>\n",
       "      <th>2021-08-23 02:30:34</th>\n",
       "      <td>ALGO</td>\n",
       "      <td>trade</td>\n",
       "      <td>0.000000</td>\n",
       "      <td>0.000000</td>\n",
       "      <td>0.000000</td>\n",
       "      <td>1.1663</td>\n",
       "      <td>0.00</td>\n",
       "    </tr>\n",
       "    <tr>\n",
       "      <th>2021-08-23 02:30:34</th>\n",
       "      <td>ETH</td>\n",
       "      <td>trade</td>\n",
       "      <td>0.000000</td>\n",
       "      <td>0.000000</td>\n",
       "      <td>0.000000</td>\n",
       "      <td>3261.8100</td>\n",
       "      <td>0.00</td>\n",
       "    </tr>\n",
       "    <tr>\n",
       "      <th>2021-08-23 02:30:34</th>\n",
       "      <td>MATIC</td>\n",
       "      <td>trade</td>\n",
       "      <td>0.000000</td>\n",
       "      <td>0.000000</td>\n",
       "      <td>0.000000</td>\n",
       "      <td>1.6332</td>\n",
       "      <td>0.00</td>\n",
       "    </tr>\n",
       "  </tbody>\n",
       "</table>\n",
       "</div>"
      ],
      "text/plain": [
       "                    currency act_name      balance    available       holds  \\\n",
       "date                                                                          \n",
       "2021-08-23 02:30:34      BTC    trade     0.042525     0.042525    0.000000   \n",
       "2021-08-23 02:30:34     USDC    trade  1223.297009  1223.297009    0.000000   \n",
       "2021-08-23 02:30:34     USDT    trade  1055.248023   630.294119  424.953905   \n",
       "2021-08-23 02:30:34    BTC3S    trade   308.923700    99.587300  209.336400   \n",
       "2021-08-23 02:30:34    BTC3L    trade    74.433300    21.594900   52.838400   \n",
       "2021-08-23 02:30:34     ATOM    trade     0.236600     0.236600    0.000000   \n",
       "2021-08-23 02:30:34     ALGO    trade     0.000000     0.000000    0.000000   \n",
       "2021-08-23 02:30:34      ETH    trade     0.000000     0.000000    0.000000   \n",
       "2021-08-23 02:30:34    MATIC    trade     0.000000     0.000000    0.000000   \n",
       "\n",
       "                          price  dollar_value  \n",
       "date                                           \n",
       "2021-08-23 02:30:34  49821.3000       2118.65  \n",
       "2021-08-23 02:30:34         NaN       1223.30  \n",
       "2021-08-23 02:30:34         NaN       1055.25  \n",
       "2021-08-23 02:30:34      1.9055        588.65  \n",
       "2021-08-23 02:30:34      1.4003        104.23  \n",
       "2021-08-23 02:30:34     22.7730          5.39  \n",
       "2021-08-23 02:30:34      1.1663          0.00  \n",
       "2021-08-23 02:30:34   3261.8100          0.00  \n",
       "2021-08-23 02:30:34      1.6332          0.00  "
      ]
     },
     "execution_count": 9,
     "metadata": {},
     "output_type": "execute_result"
    }
   ],
   "source": [
    "df"
   ]
  },
  {
   "cell_type": "code",
   "execution_count": 10,
   "id": "e228ce5f-462c-4525-87a1-14490bf1f097",
   "metadata": {},
   "outputs": [],
   "source": [
    "conn = sql.connect('kucoin.db')\n",
    "df.to_sql('kucoin', conn, if_exists = 'append')"
   ]
  },
  {
   "cell_type": "code",
   "execution_count": null,
   "id": "cc203f93-622c-4362-a8f6-a422de0603ad",
   "metadata": {},
   "outputs": [],
   "source": []
  },
  {
   "cell_type": "code",
   "execution_count": null,
   "id": "5972e832-7b0b-4552-b226-f19d629933b6",
   "metadata": {},
   "outputs": [],
   "source": []
  }
 ],
 "metadata": {
  "kernelspec": {
   "display_name": "Python 3",
   "language": "python",
   "name": "python3"
  },
  "language_info": {
   "codemirror_mode": {
    "name": "ipython",
    "version": 3
   },
   "file_extension": ".py",
   "mimetype": "text/x-python",
   "name": "python",
   "nbconvert_exporter": "python",
   "pygments_lexer": "ipython3",
   "version": "3.8.11"
  }
 },
 "nbformat": 4,
 "nbformat_minor": 5
}
